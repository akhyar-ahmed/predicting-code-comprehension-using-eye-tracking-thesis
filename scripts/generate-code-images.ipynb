{
 "cells": [
  {
   "cell_type": "markdown",
   "source": [
    "# Automatically create Images of Code Snippets using Selenium + Carbon\n",
    "## Setup\n",
    "First we define the CARBON Url and specify the class of the Export Button from the carbon.now.sh website. We then define a function that generates the images by making the code url safe (escaping characters), using selenium to open the carbon website and click on the export button, then rename the downloaded file."
   ],
   "metadata": {
    "collapsed": false,
    "pycharm": {
     "name": "#%% md\n"
    }
   }
  },
  {
   "cell_type": "code",
   "execution_count": 17,
   "outputs": [],
   "source": [
    "from time import sleep\n",
    "import urllib.parse\n",
    "from selenium import webdriver\n",
    "from selenium.webdriver.common.by import By\n",
    "\n",
    "CARBON = 'https://carbon.now.sh/?' \\\n",
    "         'bg=rgba%28201%2C201%2C201%2C1%29' \\\n",
    "         '&t=one-light' \\\n",
    "         '&wt=none' \\\n",
    "         '&l=python' \\\n",
    "         '&width=879' \\\n",
    "         '&ds=false' \\\n",
    "         '&dsyoff=20px' \\\n",
    "         '&dsblur=68px' \\\n",
    "         '&wc=false' \\\n",
    "         '&wa=true' \\\n",
    "         '&pv=0px' \\\n",
    "         '&ph=0px' \\\n",
    "         '&ln=false' \\\n",
    "         '&fl=1' \\\n",
    "         '&fm=Source+Code+Pro' \\\n",
    "         '&fs=16px' \\\n",
    "         '&lh=199%25' \\\n",
    "         '&si=false' \\\n",
    "         '&es=2x' \\\n",
    "         '&wm=false' \\\n",
    "         '&code={code}'\n",
    "\n",
    "# class name of Export Button\n",
    "EXPORT_BUTTON_CLASS = \"jsx-2184717013\"\n",
    "\n",
    "def generate_code_snippet_image(code: str, file: str):\n",
    "    # make code url safe\n",
    "    safe_code = urllib.parse.quote_plus(code)\n",
    "\n",
    "    # set carbon url containing code\n",
    "    url = CARBON.format(code=safe_code)\n",
    "\n",
    "    # selenium webdriver\n",
    "    driver = webdriver.Chrome() # setup chrome\n",
    "    driver.get(url) # load carbon webpage\n",
    "    driver.find_element(By.CLASS_NAME, EXPORT_BUTTON_CLASS).click() # click on export image button\n",
    "\n",
    "    # wait while downloading and rename file\n",
    "    sleep(3)\n",
    "    downloads_folder = f\"{Path.home()}/Downloads\"\n",
    "    os.rename(os.path.join(downloads_folder, 'carbon.png'), os.path.join(downloads_folder,f\"{file}.png\"))\n",
    "    print(f\"generated {file}.png\")"
   ],
   "metadata": {
    "collapsed": false,
    "pycharm": {
     "name": "#%%\n"
    }
   }
  },
  {
   "cell_type": "markdown",
   "source": [
    "## Iterating over multiple files\n",
    "We can iterate over all files of the specified `parent_dir` and its subfolders to call the `generate_code_snippet_image()` function. I'm furthermore splitting the file contents into two images, seperated by the delimiter \"# # # # # # # # # # # #\"."
   ],
   "metadata": {
    "collapsed": false,
    "pycharm": {
     "name": "#%% md\n"
    }
   }
  },
  {
   "cell_type": "code",
   "execution_count": null,
   "outputs": [],
   "source": [
    "import os\n",
    "from pathlib import Path\n",
    "parent_dir = \"../github_code_snippets_s5_final/\"\n",
    "\n",
    "for subdir, dirs, files in os.walk(parent_dir):\n",
    "    for file in files:\n",
    "        # ignore hidden & readme files\n",
    "        if file.startswith(\".\") or file == \"README.md\":\n",
    "            continue\n",
    "\n",
    "        # read code snippet and generate image\n",
    "        f = open(os.path.join(subdir, file), \"r\")\n",
    "        code = f.read()\n",
    "\n",
    "        try:\n",
    "            # delimiter_index = code.find(\"# # # # # # # # # # # #\")\n",
    "            delimiter = \"# # # # # delimiter # # # # # # #\"\n",
    "            delimiter_index = code.find(delimiter)\n",
    "            delimiter_offset = len(delimiter)+1\n",
    "            generate_code_snippet_image(code[:delimiter_index], f\"{file[:-3]}-code-final\")\n",
    "            generate_code_snippet_image(code[delimiter_index+delimiter_offset:], f\"{file[:-3]}-task-final\")\n",
    "        except Exception as e:\n",
    "            print(f\"Error occurred for {file}: {e}\")"
   ],
   "metadata": {
    "collapsed": false,
    "pycharm": {
     "name": "#%%\n",
     "is_executing": true
    }
   }
  }
 ],
 "metadata": {
  "kernelspec": {
   "display_name": "Python 3",
   "language": "python",
   "name": "python3"
  },
  "language_info": {
   "codemirror_mode": {
    "name": "ipython",
    "version": 2
   },
   "file_extension": ".py",
   "mimetype": "text/x-python",
   "name": "python",
   "nbconvert_exporter": "python",
   "pygments_lexer": "ipython2",
   "version": "2.7.6"
  }
 },
 "nbformat": 4,
 "nbformat_minor": 0
}